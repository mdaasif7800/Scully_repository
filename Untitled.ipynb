{
 "cells": [
  {
   "cell_type": "code",
   "execution_count": 25,
   "id": "ce8a1f3a",
   "metadata": {},
   "outputs": [
    {
     "name": "stdout",
     "output_type": "stream",
     "text": [
      "['butter', 'star', 'namra']\n",
      "Hello Namra.\n",
      "['butter', 'star', 'namra', 'light']\n",
      "['butter', 'star', 'namra']\n",
      " \n",
      " Butter is too short\n"
     ]
    }
   ],
   "source": [
    "names = [\"butter\" , \"star\" , \"light\"]\n",
    "names[2] = \"namra\"\n",
    "message = \"Hello \" + names[-1].title() + \".\"\n",
    "print(names)\n",
    "print(message)\n",
    "names.append(\"light\")\n",
    "print(names)\n",
    "names.remove(\"light\")\n",
    "print(names)\n",
    "print(\" \\n \" + names[0].title() + \" is too short\")"
   ]
  },
  {
   "cell_type": "code",
   "execution_count": null,
   "id": "ac0b190f",
   "metadata": {},
   "outputs": [],
   "source": []
  },
  {
   "cell_type": "code",
   "execution_count": null,
   "id": "bd13a197",
   "metadata": {},
   "outputs": [],
   "source": []
  },
  {
   "cell_type": "code",
   "execution_count": null,
   "id": "348aec4e",
   "metadata": {},
   "outputs": [],
   "source": []
  },
  {
   "cell_type": "code",
   "execution_count": null,
   "id": "cc5bc423",
   "metadata": {},
   "outputs": [],
   "source": []
  },
  {
   "cell_type": "code",
   "execution_count": null,
   "id": "6bab8c16",
   "metadata": {},
   "outputs": [],
   "source": []
  },
  {
   "cell_type": "code",
   "execution_count": null,
   "id": "daa260cb",
   "metadata": {},
   "outputs": [],
   "source": []
  },
  {
   "cell_type": "code",
   "execution_count": null,
   "id": "c3d2e76b",
   "metadata": {},
   "outputs": [],
   "source": []
  },
  {
   "cell_type": "code",
   "execution_count": null,
   "id": "0feeb983",
   "metadata": {},
   "outputs": [],
   "source": []
  },
  {
   "cell_type": "code",
   "execution_count": null,
   "id": "2655e54c",
   "metadata": {},
   "outputs": [],
   "source": []
  }
 ],
 "metadata": {
  "kernelspec": {
   "display_name": "Python 3",
   "language": "python",
   "name": "python3"
  },
  "language_info": {
   "codemirror_mode": {
    "name": "ipython",
    "version": 3
   },
   "file_extension": ".py",
   "mimetype": "text/x-python",
   "name": "python",
   "nbconvert_exporter": "python",
   "pygments_lexer": "ipython3",
   "version": "3.8.8"
  }
 },
 "nbformat": 4,
 "nbformat_minor": 5
}
